{
  "nbformat": 4,
  "nbformat_minor": 0,
  "metadata": {
    "colab": {
      "provenance": [],
      "authorship_tag": "ABX9TyOditDm+/CSATgywHjacPqz",
      "include_colab_link": true
    },
    "kernelspec": {
      "name": "python3",
      "display_name": "Python 3"
    },
    "language_info": {
      "name": "python"
    }
  },
  "cells": [
    {
      "cell_type": "markdown",
      "metadata": {
        "id": "view-in-github",
        "colab_type": "text"
      },
      "source": [
        "<a href=\"https://colab.research.google.com/github/krishnasameera84/EUR-INR-currency-data-from-Yahoo-Finance/blob/main/EUR_INR_currency_data_from_Yahoo_Finance.ipynb\" target=\"_parent\"><img src=\"https://colab.research.google.com/assets/colab-badge.svg\" alt=\"Open In Colab\"/></a>"
      ]
    },
    {
      "cell_type": "markdown",
      "source": [
        "# **Installing The Required Libraries**"
      ],
      "metadata": {
        "id": "VULf_RzAogIM"
      }
    },
    {
      "cell_type": "code",
      "execution_count": 1,
      "metadata": {
        "colab": {
          "base_uri": "https://localhost:8080/"
        },
        "id": "BTWZa5bpVXw9",
        "outputId": "ef8df42e-fe18-4d7c-bb28-8025f99da355"
      },
      "outputs": [
        {
          "output_type": "stream",
          "name": "stdout",
          "text": [
            "Requirement already satisfied: yfinance in /usr/local/lib/python3.10/dist-packages (0.2.46)\n",
            "Requirement already satisfied: pandas in /usr/local/lib/python3.10/dist-packages (2.2.2)\n",
            "Requirement already satisfied: numpy>=1.16.5 in /usr/local/lib/python3.10/dist-packages (from yfinance) (1.26.4)\n",
            "Requirement already satisfied: requests>=2.31 in /usr/local/lib/python3.10/dist-packages (from yfinance) (2.32.3)\n",
            "Requirement already satisfied: multitasking>=0.0.7 in /usr/local/lib/python3.10/dist-packages (from yfinance) (0.0.11)\n",
            "Requirement already satisfied: lxml>=4.9.1 in /usr/local/lib/python3.10/dist-packages (from yfinance) (4.9.4)\n",
            "Requirement already satisfied: platformdirs>=2.0.0 in /usr/local/lib/python3.10/dist-packages (from yfinance) (4.3.6)\n",
            "Requirement already satisfied: pytz>=2022.5 in /usr/local/lib/python3.10/dist-packages (from yfinance) (2024.2)\n",
            "Requirement already satisfied: frozendict>=2.3.4 in /usr/local/lib/python3.10/dist-packages (from yfinance) (2.4.6)\n",
            "Requirement already satisfied: peewee>=3.16.2 in /usr/local/lib/python3.10/dist-packages (from yfinance) (3.17.7)\n",
            "Requirement already satisfied: beautifulsoup4>=4.11.1 in /usr/local/lib/python3.10/dist-packages (from yfinance) (4.12.3)\n",
            "Requirement already satisfied: html5lib>=1.1 in /usr/local/lib/python3.10/dist-packages (from yfinance) (1.1)\n",
            "Requirement already satisfied: python-dateutil>=2.8.2 in /usr/local/lib/python3.10/dist-packages (from pandas) (2.8.2)\n",
            "Requirement already satisfied: tzdata>=2022.7 in /usr/local/lib/python3.10/dist-packages (from pandas) (2024.2)\n",
            "Requirement already satisfied: soupsieve>1.2 in /usr/local/lib/python3.10/dist-packages (from beautifulsoup4>=4.11.1->yfinance) (2.6)\n",
            "Requirement already satisfied: six>=1.9 in /usr/local/lib/python3.10/dist-packages (from html5lib>=1.1->yfinance) (1.16.0)\n",
            "Requirement already satisfied: webencodings in /usr/local/lib/python3.10/dist-packages (from html5lib>=1.1->yfinance) (0.5.1)\n",
            "Requirement already satisfied: charset-normalizer<4,>=2 in /usr/local/lib/python3.10/dist-packages (from requests>=2.31->yfinance) (3.4.0)\n",
            "Requirement already satisfied: idna<4,>=2.5 in /usr/local/lib/python3.10/dist-packages (from requests>=2.31->yfinance) (3.10)\n",
            "Requirement already satisfied: urllib3<3,>=1.21.1 in /usr/local/lib/python3.10/dist-packages (from requests>=2.31->yfinance) (2.2.3)\n",
            "Requirement already satisfied: certifi>=2017.4.17 in /usr/local/lib/python3.10/dist-packages (from requests>=2.31->yfinance) (2024.8.30)\n"
          ]
        }
      ],
      "source": [
        "!pip install yfinance pandas\n"
      ]
    },
    {
      "cell_type": "markdown",
      "source": [
        "# **fetching the Data**"
      ],
      "metadata": {
        "id": "IpOpUTt1o568"
      }
    },
    {
      "cell_type": "code",
      "source": [
        "import yfinance as yf\n",
        "\n",
        "ticker = 'EURINR=X'\n",
        "start_date = '2023-01-01'\n",
        "end_date = '2024-09-30'\n",
        "\n",
        "data = yf.download(ticker, start=start_date, end=end_date)\n",
        "\n",
        "data.to_csv('EURINR_Data_2023_2024.csv')\n",
        "print(\"Data saved to 'EURINR_Data_2023_2024.csv'\")\n"
      ],
      "metadata": {
        "colab": {
          "base_uri": "https://localhost:8080/"
        },
        "id": "neQXho7RXSx0",
        "outputId": "db152ea7-993d-4c25-fce2-9323b71ec4b8"
      },
      "execution_count": 3,
      "outputs": [
        {
          "output_type": "stream",
          "name": "stderr",
          "text": [
            "\r[*********************100%***********************]  1 of 1 completed"
          ]
        },
        {
          "output_type": "stream",
          "name": "stdout",
          "text": [
            "Data saved to 'EURINR_Data_2023_2024.csv'\n"
          ]
        },
        {
          "output_type": "stream",
          "name": "stderr",
          "text": [
            "\n"
          ]
        }
      ]
    },
    {
      "cell_type": "markdown",
      "source": [
        "# **Download csv file**"
      ],
      "metadata": {
        "id": "80H_-954pFET"
      }
    },
    {
      "cell_type": "code",
      "source": [
        "from google.colab import files\n",
        "files.download('EURINR_Data_2023_2024.csv')\n"
      ],
      "metadata": {
        "colab": {
          "base_uri": "https://localhost:8080/",
          "height": 17
        },
        "id": "D-4UmVAcYx6q",
        "outputId": "373155b3-e02d-4620-b3df-f94900a39a66"
      },
      "execution_count": 4,
      "outputs": [
        {
          "output_type": "display_data",
          "data": {
            "text/plain": [
              "<IPython.core.display.Javascript object>"
            ],
            "application/javascript": [
              "\n",
              "    async function download(id, filename, size) {\n",
              "      if (!google.colab.kernel.accessAllowed) {\n",
              "        return;\n",
              "      }\n",
              "      const div = document.createElement('div');\n",
              "      const label = document.createElement('label');\n",
              "      label.textContent = `Downloading \"${filename}\": `;\n",
              "      div.appendChild(label);\n",
              "      const progress = document.createElement('progress');\n",
              "      progress.max = size;\n",
              "      div.appendChild(progress);\n",
              "      document.body.appendChild(div);\n",
              "\n",
              "      const buffers = [];\n",
              "      let downloaded = 0;\n",
              "\n",
              "      const channel = await google.colab.kernel.comms.open(id);\n",
              "      // Send a message to notify the kernel that we're ready.\n",
              "      channel.send({})\n",
              "\n",
              "      for await (const message of channel.messages) {\n",
              "        // Send a message to notify the kernel that we're ready.\n",
              "        channel.send({})\n",
              "        if (message.buffers) {\n",
              "          for (const buffer of message.buffers) {\n",
              "            buffers.push(buffer);\n",
              "            downloaded += buffer.byteLength;\n",
              "            progress.value = downloaded;\n",
              "          }\n",
              "        }\n",
              "      }\n",
              "      const blob = new Blob(buffers, {type: 'application/binary'});\n",
              "      const a = document.createElement('a');\n",
              "      a.href = window.URL.createObjectURL(blob);\n",
              "      a.download = filename;\n",
              "      div.appendChild(a);\n",
              "      a.click();\n",
              "      div.remove();\n",
              "    }\n",
              "  "
            ]
          },
          "metadata": {}
        },
        {
          "output_type": "display_data",
          "data": {
            "text/plain": [
              "<IPython.core.display.Javascript object>"
            ],
            "application/javascript": [
              "download(\"download_e7795237-bb5c-46e9-8fac-042f335ce009\", \"EURINR_Data_2023_2024.csv\", 40328)"
            ]
          },
          "metadata": {}
        }
      ]
    },
    {
      "cell_type": "markdown",
      "source": [
        "\n",
        "# Load the Data\n",
        "**First, you need to load the CSV file that you saved previously**"
      ],
      "metadata": {
        "id": "3uRqySkep1ED"
      }
    },
    {
      "cell_type": "code",
      "source": [
        "import pandas as pd\n",
        "\n",
        "\n",
        "date_column_name = 'Date'\n",
        "\n",
        "\n",
        "try:\n",
        "    data = pd.read_csv('EURINR_Data_2023_2024.csv', parse_dates=[date_column_name], index_col=date_column_name)\n",
        "    print(\"Data loaded successfully.\")\n",
        "    print(data.head())\n",
        "except ValueError as ve:\n",
        "    print(f\"ValueError: {ve}\")\n",
        "except FileNotFoundError:\n",
        "    print(\"File not found. Please check the file path.\")\n",
        "except Exception as e:\n",
        "    print(f\"An error occurred: {e}\")\n"
      ],
      "metadata": {
        "colab": {
          "base_uri": "https://localhost:8080/"
        },
        "id": "B9X9nbrnZOKv",
        "outputId": "befc71d3-abd5-4f56-f027-f3a603414c01"
      },
      "execution_count": 6,
      "outputs": [
        {
          "output_type": "stream",
          "name": "stdout",
          "text": [
            "ValueError: Missing column provided to 'parse_dates': 'Date'\n"
          ]
        }
      ]
    },
    {
      "cell_type": "code",
      "source": [
        "print(data.dtypes)\n"
      ],
      "metadata": {
        "colab": {
          "base_uri": "https://localhost:8080/"
        },
        "id": "8ollmWa-ZhOR",
        "outputId": "155d6702-0335-469d-f2bd-1680e786c712"
      },
      "execution_count": 8,
      "outputs": [
        {
          "output_type": "stream",
          "name": "stdout",
          "text": [
            "Price      Ticker  \n",
            "Adj Close  EURINR=X    float64\n",
            "Close      EURINR=X    float64\n",
            "High       EURINR=X    float64\n",
            "Low        EURINR=X    float64\n",
            "Open       EURINR=X    float64\n",
            "Volume     EURINR=X      int64\n",
            "dtype: object\n"
          ]
        }
      ]
    },
    {
      "cell_type": "code",
      "source": [
        "\n",
        "print(data[['Close', 'High', 'Low']].head(10))  # Display the first 10 rows to inspect\n"
      ],
      "metadata": {
        "colab": {
          "base_uri": "https://localhost:8080/"
        },
        "id": "-HC1tv-7ZlJ_",
        "outputId": "63f0e1e2-726f-4277-aa16-6049af32a9e8"
      },
      "execution_count": 9,
      "outputs": [
        {
          "output_type": "stream",
          "name": "stdout",
          "text": [
            "Price                          Close       High        Low\n",
            "Ticker                      EURINR=X   EURINR=X   EURINR=X\n",
            "Date                                                      \n",
            "2023-01-02 00:00:00+00:00  88.482002  88.400002  87.157700\n",
            "2023-01-03 00:00:00+00:00  88.300003  88.313004  87.225998\n",
            "2023-01-04 00:00:00+00:00  87.219002  87.922997  87.219002\n",
            "2023-01-05 00:00:00+00:00  87.605003  87.807999  86.757004\n",
            "2023-01-06 00:00:00+00:00  86.827003  87.614998  86.647003\n",
            "2023-01-09 00:00:00+00:00  87.500999  88.285004  85.691902\n",
            "2023-01-10 00:00:00+00:00  88.124001  88.247002  87.445999\n",
            "2023-01-11 00:00:00+00:00  87.582001  87.935997  87.412003\n",
            "2023-01-12 00:00:00+00:00  87.805000  88.143997  87.377998\n",
            "2023-01-13 00:00:00+00:00  88.011002  88.304001  87.726997\n"
          ]
        }
      ]
    },
    {
      "cell_type": "code",
      "source": [
        "# Convert relevant columns to numeric, forcing errors to NaN\n",
        "# Apply pd.to_numeric to each element in the column\n",
        "data['Close'] = data['Close'].apply(pd.to_numeric, errors='coerce')\n",
        "data['High'] = data['High'].apply(pd.to_numeric, errors='coerce')\n",
        "data['Low'] = data['Low'].apply(pd.to_numeric, errors='coerce')\n",
        "\n",
        "# Optionally, drop rows with NaN values if needed\n",
        "data.dropna(inplace=True)"
      ],
      "metadata": {
        "id": "6MJyAFo9aiyZ"
      },
      "execution_count": 12,
      "outputs": []
    },
    {
      "cell_type": "markdown",
      "source": [
        "# Calculate Technical Indicators"
      ],
      "metadata": {
        "id": "UbbrZZysq23x"
      }
    },
    {
      "cell_type": "code",
      "source": [
        "import pandas as pd\n",
        "import numpy as np\n",
        "\n",
        "data = pd.read_csv('EURINR_Data_2023_2024.csv', parse_dates=['Price'], index_col='Price')\n",
        "\n",
        "data['Close'] = pd.to_numeric(data['Close'], errors='coerce')\n",
        "data['High'] = pd.to_numeric(data['High'], errors='coerce')\n",
        "data['Low'] = pd.to_numeric(data['Low'], errors='coerce')\n",
        "\n",
        "# Optionally drop rows with NaN values if needed\n",
        "data.dropna(inplace=True)\n",
        "\n",
        "# Function to calculate moving average\n",
        "def moving_average(data, window):\n",
        "    return data['Close'].rolling(window=window).mean()\n",
        "\n",
        "# Function to calculate Bollinger Bands\n",
        "def bollinger_bands(data, window=20, num_std=2):\n",
        "    ma = moving_average(data, window)\n",
        "    std_dev = data['Close'].rolling(window=window).std()\n",
        "    upper_band = ma + (std_dev * num_std)\n",
        "    lower_band = ma - (std_dev * num_std)\n",
        "    return upper_band, lower_band\n",
        "\n",
        "# Function to calculate CCI\n",
        "def commodity_channel_index(data, window=20):\n",
        "    tp = (data['High'] + data['Low'] + data['Close']) / 3\n",
        "    ma_tp = tp.rolling(window=window).mean()\n",
        "    md = tp.rolling(window=window).apply(lambda x: np.mean(np.abs(x - x.mean())), raw=True)\n",
        "    cci = (tp - ma_tp) / (0.015 * md)\n",
        "    return cci\n",
        "\n",
        "# Calculate indicators\n",
        "data['1-day MA'] = moving_average(data, 1)\n",
        "data['1-week MA'] = moving_average(data, 7)\n",
        "data['Upper Band'], data['Lower Band'] = bollinger_bands(data)\n",
        "data['CCI'] = commodity_channel_index(data)\n",
        "\n",
        "# Display the last few rows to check the calculations\n",
        "print(data.tail())\n"
      ],
      "metadata": {
        "colab": {
          "base_uri": "https://localhost:8080/"
        },
        "id": "NjxVVUXVauMA",
        "outputId": "a6749302-fdf1-4048-de48-979746c7fe1e"
      },
      "execution_count": 17,
      "outputs": [
        {
          "output_type": "stream",
          "name": "stdout",
          "text": [
            "                             Adj Close      Close       High        Low  \\\n",
            "Price                                                                     \n",
            "2024-09-24 00:00:00+00:00   92.7539978  92.753998  93.248001  92.671997   \n",
            "2024-09-25 00:00:00+00:00  93.43800354  93.438004  93.627998  93.083000   \n",
            "2024-09-26 00:00:00+00:00  93.00099945  93.000999  93.467003  92.994003   \n",
            "2024-09-27 00:00:00+00:00  93.36799622  93.367996  93.629997  93.037003   \n",
            "2024-09-30 00:00:00+00:00       93.369  93.369000  92.414000  93.840000   \n",
            "\n",
            "                                  Open Volume   1-day MA  1-week MA  \\\n",
            "Price                                                                 \n",
            "2024-09-24 00:00:00+00:00  92.77500153      0  92.753998  92.916142   \n",
            "2024-09-25 00:00:00+00:00  93.49099731      0  93.438004  93.115143   \n",
            "2024-09-26 00:00:00+00:00  92.99500275      0  93.000999  93.077571   \n",
            "2024-09-27 00:00:00+00:00   93.3710022      0  93.367996  93.115286   \n",
            "2024-09-30 00:00:00+00:00       92.414      0  93.369000  93.178285   \n",
            "\n",
            "                           Upper Band  Lower Band         CCI  \n",
            "Price                                                          \n",
            "2024-09-24 00:00:00+00:00   93.657735   92.140366    2.106169  \n",
            "2024-09-25 00:00:00+00:00   93.587223   92.182478  152.514952  \n",
            "2024-09-26 00:00:00+00:00   93.547535   92.192365   82.080554  \n",
            "2024-09-27 00:00:00+00:00   93.607754   92.181146  120.854816  \n",
            "2024-09-30 00:00:00+00:00   93.661525   92.205475   76.245138  \n"
          ]
        },
        {
          "output_type": "stream",
          "name": "stderr",
          "text": [
            "<ipython-input-17-1b1365b8dfb9>:5: UserWarning: Could not infer format, so each element will be parsed individually, falling back to `dateutil`. To ensure parsing is consistent and as-expected, please specify a format.\n",
            "  data = pd.read_csv('EURINR_Data_2023_2024.csv', parse_dates=['Price'], index_col='Price')\n"
          ]
        }
      ]
    },
    {
      "cell_type": "code",
      "source": [
        "data = pd.read_csv('EURINR_Data_2023_2024.csv')\n",
        "print(data.head())"
      ],
      "metadata": {
        "colab": {
          "base_uri": "https://localhost:8080/"
        },
        "id": "OjSYB7RCbXXl",
        "outputId": "eca4c097-d9bb-4430-e0bc-f41d09e5550d"
      },
      "execution_count": 18,
      "outputs": [
        {
          "output_type": "stream",
          "name": "stdout",
          "text": [
            "                       Price    Adj Close        Close         High  \\\n",
            "0                     Ticker     EURINR=X     EURINR=X     EURINR=X   \n",
            "1                       Date          NaN          NaN          NaN   \n",
            "2  2023-01-02 00:00:00+00:00  88.48200226  88.48200226  88.40000153   \n",
            "3  2023-01-03 00:00:00+00:00  88.30000305  88.30000305  88.31300354   \n",
            "4  2023-01-04 00:00:00+00:00  87.21900177  87.21900177  87.92299652   \n",
            "\n",
            "           Low         Open    Volume  \n",
            "0     EURINR=X     EURINR=X  EURINR=X  \n",
            "1          NaN          NaN       NaN  \n",
            "2  87.15769958  87.15769958         0  \n",
            "3  87.22599792  88.29199982         0  \n",
            "4  87.21900177  87.21900177         0  \n"
          ]
        }
      ]
    },
    {
      "cell_type": "code",
      "source": [
        "data = pd.read_csv('EURINR_Data_2023_2024.csv', parse_dates=['Price'], index_col='Price')"
      ],
      "metadata": {
        "colab": {
          "base_uri": "https://localhost:8080/"
        },
        "id": "YI9XRsrLg1ft",
        "outputId": "4c677209-c640-4b2f-d195-12a3ea7146ed"
      },
      "execution_count": 20,
      "outputs": [
        {
          "output_type": "stream",
          "name": "stderr",
          "text": [
            "<ipython-input-20-26ac1a145bb6>:1: UserWarning: Could not infer format, so each element will be parsed individually, falling back to `dateutil`. To ensure parsing is consistent and as-expected, please specify a format.\n",
            "  data = pd.read_csv('EURINR_Data_2023_2024.csv', parse_dates=['Price'], index_col='Price')\n"
          ]
        }
      ]
    },
    {
      "cell_type": "code",
      "source": [
        "data = pd.read_csv('EURINR_Data_2023_2024.csv')"
      ],
      "metadata": {
        "id": "pDfW34Vmg99l"
      },
      "execution_count": 21,
      "outputs": []
    },
    {
      "cell_type": "markdown",
      "source": [
        "## Make Trading Decisions\n",
        "**Now, based on the calculated indicators, you can analyze the data for September 30, 2024, and make trading decisions:**"
      ],
      "metadata": {
        "id": "cdv6_YPsrtzz"
      }
    },
    {
      "cell_type": "code",
      "source": [
        "import pandas as pd\n",
        "import numpy as np\n",
        "\n",
        "\n",
        "data = pd.read_csv('EURINR_Data_2023_2024.csv', parse_dates=['Price'], index_col='Price')\n",
        "\n",
        "\n",
        "data['Close'] = pd.to_numeric(data['Close'], errors='coerce')\n",
        "data['High'] = pd.to_numeric(data['High'], errors='coerce')\n",
        "data['Low'] = pd.to_numeric(data['Low'], errors='coerce')\n",
        "\n",
        "\n",
        "data.dropna(inplace=True)\n",
        "\n",
        "\n",
        "\n",
        "# Get the latest data for Sept 30, 2024\n",
        "\n",
        "data.index = pd.to_datetime(data.index)\n",
        "# Access the row using .loc:\n",
        "latest_data = data.loc['2024-09-30']\n",
        "\n"
      ],
      "metadata": {
        "colab": {
          "base_uri": "https://localhost:8080/"
        },
        "id": "vyVSP5t2hDuu",
        "outputId": "2a4c14f4-178b-4fe5-8942-68cf3fadc00e"
      },
      "execution_count": 22,
      "outputs": [
        {
          "output_type": "stream",
          "name": "stderr",
          "text": [
            "<ipython-input-22-8b80d4817b37>:5: UserWarning: Could not infer format, so each element will be parsed individually, falling back to `dateutil`. To ensure parsing is consistent and as-expected, please specify a format.\n",
            "  data = pd.read_csv('EURINR_Data_2023_2024.csv', parse_dates=['Price'], index_col='Price')\n"
          ]
        }
      ]
    },
    {
      "cell_type": "markdown",
      "source": [
        "# Complete WorkFlow\n",
        "**After Loading the data, you will recieve the trading decisions based on the calculated technical indicators**"
      ],
      "metadata": {
        "id": "1AleObgVr_Ge"
      }
    },
    {
      "cell_type": "code",
      "source": [
        "import pandas as pd\n",
        "import numpy as np\n",
        "\n",
        "data = pd.read_csv('EURINR_Data_2023_2024.csv', parse_dates=['Price'], index_col='Price')\n",
        "\n",
        "# Convert 'Close', 'High', and 'Low' columns to numeric\n",
        "# errors='coerce' will replace invalid values with NaN\n",
        "data['Close'] = pd.to_numeric(data['Close'], errors='coerce')\n",
        "data['High'] = pd.to_numeric(data['High'], errors='coerce')\n",
        "data['Low'] = pd.to_numeric(data['Low'], errors='coerce')\n",
        "\n",
        "# Optionally drop rows with NaN values if needed:\n",
        "data.dropna(inplace=True)\n",
        "\n",
        "# Define functions for the technical indicators\n",
        "def moving_average(data, window):\n",
        "    return data['Close'].rolling(window=window).mean()\n",
        "\n",
        "def bollinger_bands(data, window=20, num_std=2):\n",
        "    ma = moving_average(data, window)\n",
        "    std_dev = data['Close'].rolling(window=window).std()\n",
        "    upper_band = ma + (std_dev * num_std)\n",
        "    lower_band = ma - (std_dev * num_std)\n",
        "    return upper_band, lower_band\n",
        "\n",
        "def commodity_channel_index(data, window=20):\n",
        "    tp = (data['High'] + data['Low'] + data['Close']) / 3\n",
        "    ma_tp = tp.rolling(window=window).mean()\n",
        "    md = tp.rolling(window=window).apply(lambda x: np.mean(np.abs(x - x.mean())), raw=True)\n",
        "    cci = (tp - ma_tp) / (0.015 * md)\n",
        "    return cci\n",
        "\n",
        "# Calculate indicators\n",
        "data['1-day MA'] = moving_average(data, 1)\n",
        "data['1-week MA'] = moving_average(data, 7)\n",
        "data['Upper Band'], data['Lower Band'] = bollinger_bands(data)\n",
        "data['CCI'] = commodity_channel_index(data)\n",
        "\n",
        "# Get the latest data for Sept 30, 2024\n",
        "# Ensure 'Price' column is datetime and access row using .loc:\n",
        "data.index = pd.to_datetime(data.index)\n",
        "latest_data = data.loc['2024-09-30']\n",
        "\n",
        "# Function for making trading decisions (unchanged)\n",
        "def trading_decision(ma, upper_band, lower_band, cci):\n",
        "    ma_decision = 'BUY' if ma > latest_data['Close'] else 'SELL'\n",
        "    bb_decision = 'SELL' if latest_data['Close'] > upper_band else ('BUY' if latest_data['Close'] < lower_band else 'NEUTRAL')\n",
        "    cci_decision = 'SELL' if cci > 100 else ('BUY' if cci < -100 else 'NEUTRAL')\n",
        "    return ma_decision, bb_decision, cci_decision\n",
        "\n",
        "# Get decisions for 1-day and 1-week (unchanged)\n",
        "decision_1_day = trading_decision(latest_data['1-day MA'], latest_data['Upper Band'], latest_data['Lower Band'], latest_data['CCI'])\n",
        "decision_1_week = trading_decision(latest_data['1-week MA'], latest_data['Upper Band'], latest_data['Lower Band'], latest_data['CCI'])\n",
        "\n",
        "print(\"Trading Decisions for Sept 30, 2024:\")\n",
        "print(f\"1-Day Decisions: Moving Average: {decision_1_day[0]}, Bollinger Bands: {decision_1_day[1]}, CCI: {decision_1_day[2]}\")\n",
        "print(f\"1-Week Decisions: Moving Average: {decision_1_week[0]}, Bollinger Bands: {decision_1_week[1]}, CCI: {decision_1_week[2]}\")"
      ],
      "metadata": {
        "colab": {
          "base_uri": "https://localhost:8080/"
        },
        "id": "rRGRnEmFiw4c",
        "outputId": "b44de88f-300e-4252-ff9e-d46f69f57e70"
      },
      "execution_count": 24,
      "outputs": [
        {
          "output_type": "stream",
          "name": "stdout",
          "text": [
            "Trading Decisions for Sept 30, 2024:\n",
            "1-Day Decisions: Moving Average: SELL, Bollinger Bands: NEUTRAL, CCI: NEUTRAL\n",
            "1-Week Decisions: Moving Average: SELL, Bollinger Bands: NEUTRAL, CCI: NEUTRAL\n"
          ]
        },
        {
          "output_type": "stream",
          "name": "stderr",
          "text": [
            "<ipython-input-24-79da83243f29>:5: UserWarning: Could not infer format, so each element will be parsed individually, falling back to `dateutil`. To ensure parsing is consistent and as-expected, please specify a format.\n",
            "  data = pd.read_csv('EURINR_Data_2023_2024.csv', parse_dates=['Price'], index_col='Price')\n"
          ]
        }
      ]
    }
  ]
}